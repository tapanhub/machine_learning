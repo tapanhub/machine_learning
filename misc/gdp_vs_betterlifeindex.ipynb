{
 "cells": [
  {
   "cell_type": "code",
   "execution_count": 8,
   "metadata": {
    "scrolled": false
   },
   "outputs": [
    {
     "name": "stdout",
     "output_type": "stream",
     "text": [
      "25\n"
     ]
    },
    {
     "data": {
      "text/plain": [
       "<matplotlib.text.Text at 0x7f685fc1e048>"
      ]
     },
     "execution_count": 8,
     "metadata": {},
     "output_type": "execute_result"
    },
    {
     "data": {
      "text/plain": [
       "<matplotlib.collections.PathCollection at 0x7f685fbef588>"
      ]
     },
     "execution_count": 8,
     "metadata": {},
     "output_type": "execute_result"
    },
    {
     "data": {
      "text/plain": [
       "pandas.core.series.Series"
      ]
     },
     "execution_count": 8,
     "metadata": {},
     "output_type": "execute_result"
    },
    {
     "data": {
      "text/plain": [
       "LinearRegression(copy_X=True, fit_intercept=True, n_jobs=1, normalize=False)"
      ]
     },
     "execution_count": 8,
     "metadata": {},
     "output_type": "execute_result"
    },
    {
     "data": {
      "text/plain": [
       "array([[ 6.56683043],\n",
       "       [ 7.3160808 ],\n",
       "       [ 6.47231585],\n",
       "       [ 6.01679757],\n",
       "       [ 6.78723062],\n",
       "       [ 6.56683043],\n",
       "       [ 5.76778834]])"
      ]
     },
     "execution_count": 8,
     "metadata": {},
     "output_type": "execute_result"
    },
    {
     "name": "stdout",
     "output_type": "stream",
     "text": [
      "[[ 7.2]\n",
      " [ 7.7]\n",
      " [ 6.3]\n",
      " [ 6.1]\n",
      " [ 7.8]\n",
      " [ 7.9]\n",
      " [ 5. ]]\n"
     ]
    },
    {
     "data": {
      "image/png": "[encoded data removed]",
      "text/plain": [
       "<matplotlib.figure.Figure at 0x7f6860299198>"
      ]
     },
     "metadata": {},
     "output_type": "display_data"
    }
   ],
   "source": [
    "%matplotlib inline\n",
    "import sklearn\n",
    "import sklearn.linear_model\n",
    "import pandas as pd\n",
    "import requests\n",
    "import matplotlib.pyplot as plt\n",
    "import seaborn as sns\n",
    "import numpy as np\n",
    "\n",
    "\n",
    "\n",
    "\n",
    "link='http://www.imf.org/external/pubs/ft/weo/2016/01/weodata/weorept.aspx?pr.x=60&pr.y=13&sy=2016&ey=2016&scsm=1&ssd=1&sort=country&ds=.&br=1&c=512%2C672%2C914%2C946%2C612%2C137%2C614%2C546%2C311%2C962%2C213%2C674%2C911%2C676%2C193%2C548%2C122%2C556%2C912%2C678%2C313%2C181%2C419%2C867%2C513%2C682%2C316%2C684%2C913%2C273%2C124%2C868%2C339%2C921%2C638%2C948%2C514%2C943%2C218%2C686%2C963%2C688%2C616%2C518%2C223%2C728%2C516%2C558%2C918%2C138%2C748%2C196%2C618%2C278%2C624%2C692%2C522%2C694%2C622%2C142%2C156%2C449%2C626%2C564%2C628%2C565%2C228%2C283%2C924%2C853%2C233%2C288%2C632%2C293%2C636%2C566%2C634%2C964%2C238%2C182%2C662%2C359%2C960%2C453%2C423%2C968%2C935%2C922%2C128%2C714%2C611%2C862%2C321%2C135%2C243%2C716%2C248%2C456%2C469%2C722%2C253%2C942%2C642%2C718%2C643%2C724%2C939%2C576%2C644%2C936%2C819%2C961%2C172%2C813%2C132%2C199%2C646%2C733%2C648%2C184%2C915%2C524%2C134%2C361%2C652%2C362%2C174%2C364%2C328%2C732%2C258%2C366%2C656%2C734%2C654%2C144%2C336%2C146%2C263%2C463%2C268%2C528%2C532%2C923%2C944%2C738%2C176%2C578%2C534%2C537%2C536%2C742%2C429%2C866%2C433%2C369%2C178%2C744%2C436%2C186%2C136%2C925%2C343%2C869%2C158%2C746%2C439%2C926%2C916%2C466%2C664%2C112%2C826%2C111%2C542%2C298%2C967%2C927%2C443%2C846%2C917%2C299%2C544%2C582%2C941%2C474%2C446%2C754%2C666%2C698%2C668&s=NGDPDPC&grp=0&a='\n",
    "\n",
    "page=requests.get(link)\n",
    "l=pd.read_html(page.text)\n",
    "df=l[4]\n",
    "\n",
    "df=df.loc[2:, [0,5]]\n",
    "df.columns=['Country' ,'gdp_2016']\n",
    "df.set_index('Country', inplace=True)\n",
    "sns.set()\n",
    "\n",
    "#download CSV file from http://stats.oecd.org/index.aspx?DataSetCode=BLI\n",
    "lsi=pd.read_csv('BLI_11112017171257222.csv')\n",
    "lsi=lsi[lsi.Indicator.str.contains('Life satisfaction')]\n",
    "#lsi\n",
    "lsi=lsi[['Country', 'Value']].set_index('Country')\n",
    "lsi.drop_duplicates(keep='first', inplace=True)\n",
    "print(len(lsi.index.unique()))\n",
    "#lsi.head()\n",
    "#df.head()\n",
    "\n",
    "lsi['gdp_2016']=0\n",
    "count=0\n",
    "for idx, value in lsi.Value.iteritems():\n",
    "    if idx in df.index:\n",
    "        #lsi[idx, 'gdp2016'] = df[idx, 'gdp2016']\n",
    "        lsi.loc[idx,'gdp_2016'] = df.loc[idx, 'gdp_2016']\n",
    "        count=count+1\n",
    "\n",
    "lsi.drop(lsi['gdp_2016'] == 0, inplace=True)\n",
    "lsi.columns=['life_satisfaction', 'gdp_2016' ]\n",
    "#lsi.sort_values(by=['life_satisfaction'], ascending=False, inplace=True)\n",
    "\n",
    "dupcontries=['South Africa', 'Hungary', 'Portugal']\n",
    "for c in dupcontries:\n",
    "    lsi.loc[c, 'life_satisfaction']=lsi.loc[c].life_satisfaction.max()\n",
    "\n",
    "lsi.drop_duplicates(keep='first', inplace=True )\n",
    "X=lsi['gdp_2016']\n",
    "y=lsi['life_satisfaction']\n",
    "\n",
    "plt.title(\"GDP per capita vs life satisfaction\")\n",
    "#plt.legend()\n",
    "plt.scatter(X, y)\n",
    "#plt.xlabel(\"GDP per capita in $\")\n",
    "#plt.ylabel(\"Life Satisfaction\")\n",
    "trainingX=X[:-7]\n",
    "testingX=X[-7:]\n",
    "trainingy=y[:-7]\n",
    "testingy=y[-7:]\n",
    "type(trainingX)\n",
    "# select a model\n",
    "\n",
    "model = sklearn.linear_model.LinearRegression()\n",
    "\n",
    "model.fit(trainingX.values.reshape(-1,1), trainingy.values.reshape(-1,1))\n",
    "model.predict(testingX.values.reshape(-1,1))\n",
    "print (testingy.values.reshape(-1,1))\n",
    "\n",
    "\n",
    "\n"
   ]
  },
  {
   "cell_type": "code",
   "execution_count": null,
   "metadata": {
    "collapsed": true
   },
   "outputs": [],
   "source": []
  }
 ],
 "metadata": {
  "kernelspec": {
   "display_name": "Python 3",
   "language": "python",
   "name": "python3"
  },
  "language_info": {
   "codemirror_mode": {
    "name": "ipython",
    "version": 3
   },
   "file_extension": ".py",
   "mimetype": "text/x-python",
   "name": "python",
   "nbconvert_exporter": "python",
   "pygments_lexer": "ipython3",
   "version": "3.6.2"
  }
 },
 "nbformat": 4,
 "nbformat_minor": 2
}
