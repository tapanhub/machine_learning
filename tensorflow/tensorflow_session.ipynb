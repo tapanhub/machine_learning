{
 "cells": [
  {
   "cell_type": "code",
   "execution_count": 14,
   "metadata": {},
   "outputs": [
    {
     "name": "stdout",
     "output_type": "stream",
     "text": [
      "[array([nan], dtype=float32), array([nan], dtype=float32)]\n"
     ]
    }
   ],
   "source": [
    "import tensorflow as tf\n",
    "\n",
    "#example 1\n",
    "'''\n",
    "\n",
    "a = tf.constant(5.0)\n",
    "b = tf.constant(6.0)\n",
    "c=a*b\n",
    "\n",
    "with tf.Session() as sess:\n",
    "    print(sess.run(c))\n",
    "'''\n",
    "# example 2\n",
    "'''\n",
    "\n",
    "a = tf.placeholder(tf.float32)\n",
    "b = tf.placeholder(tf.float32)\n",
    "\n",
    "c = a * b\n",
    "\n",
    "with tf.Session() as sess:\n",
    "    r=sess.run(c, {a:[2,3],b:[3,4]})\n",
    "    print(r)\n",
    "    \n",
    "'''\n",
    "#example 3\n",
    "# liner_model = m*x + c\n",
    "x = tf.placeholder(tf.float32)\n",
    "m = tf.Variable([3.0], tf.float32)\n",
    "c = tf.Variable([-3.0], tf.float32)\n",
    "y = tf.placeholder(tf.float32)\n",
    "\n",
    "liner_model = m * x + c\n",
    "sq_delta =  tf.square(liner_model-y)\n",
    "loss = tf.reduce_sum(sq_delta)\n",
    "optimizer = tf.train.GradientDescentOptimizer(0.01)\n",
    "train = optimizer.minimize(loss)\n",
    "init_op= tf.global_variables_initializer()\n",
    "\n",
    "with tf.Session() as sess:\n",
    "    sess.run(init_op)\n",
    "    for i in range(2):\n",
    "        r=sess.run(train, {x:[1,2,3,4,5,6,7,8], y:[2,4,1,2,4,6,5,4]})\n",
    "        \n",
    "    print(sess.run([m,c]))\n",
    "    "
   ]
  }
 ],
 "metadata": {
  "kernelspec": {
   "display_name": "Python 3",
   "language": "python",
   "name": "python3"
  },
  "language_info": {
   "codemirror_mode": {
    "name": "ipython",
    "version": 3
   },
   "file_extension": ".py",
   "mimetype": "text/x-python",
   "name": "python",
   "nbconvert_exporter": "python",
   "pygments_lexer": "ipython3",
   "version": "3.7.3"
  }
 },
 "nbformat": 4,
 "nbformat_minor": 2
}
